{
 "cells": [
  {
   "cell_type": "code",
   "execution_count": null,
   "id": "46699d42-21c1-4266-843d-af526c197554",
   "metadata": {},
   "outputs": [],
   "source": [
    "Question.1 Who develpoed python programming language ?\n",
    "Answer.1 Guido Van Rossum"
   ]
  },
  {
   "cell_type": "code",
   "execution_count": null,
   "id": "6fa03979-7af1-4371-9c56-dd722fdbbcf9",
   "metadata": {},
   "outputs": [],
   "source": [
    "Question.2 Which type of programming does python ?\n",
    "Answer 2 python is a multi-paradigm programming langauge object oriented programming and structured programming are fully supported.\n"
   ]
  },
  {
   "cell_type": "code",
   "execution_count": null,
   "id": "489cd31b-567c-4405-928d-40bc854dd8a9",
   "metadata": {},
   "outputs": [],
   "source": [
    "Question.3 Is pyhon case sensitive when dealing with Indentifire?\n",
    "Answer.3 Yes, pyhon is a case sensitive language. It treats upper case and lover charecter differntly."
   ]
  },
  {
   "cell_type": "code",
   "execution_count": null,
   "id": "ab79ed45-667f-4bf3-bab0-1c20b64ee72d",
   "metadata": {},
   "outputs": [],
   "source": [
    "Question.4 What the correct extension  of the python file?\n",
    "Answer.4 .py"
   ]
  },
  {
   "cell_type": "code",
   "execution_count": null,
   "id": "3828a78c-dd0e-4888-9ead-3472c54332f3",
   "metadata": {},
   "outputs": [],
   "source": [
    "Question.5 Is paython code compiled or Interpreted?\n",
    "Answer.5 Python is an Interpreted language."
   ]
  },
  {
   "cell_type": "code",
   "execution_count": null,
   "id": "9b36581c-a3f1-4329-a7fe-0586f298da19",
   "metadata": {},
   "outputs": [],
   "source": [
    "Question.6 Name a fuw block of code use to define in pyhon language?\n",
    "Answer.6 A module,fuction only and class definition."
   ]
  },
  {
   "cell_type": "code",
   "execution_count": null,
   "id": "19b1817a-b6eb-4859-8684-9744ecc22255",
   "metadata": {},
   "outputs": [],
   "source": [
    "Question.7 State a charecter used to give single line comment?\n",
    "Answer.7 Comments in python are defined with a HASH symbol,# and extend to the end of line."
   ]
  },
  {
   "cell_type": "code",
   "execution_count": null,
   "id": "c7d0ac9f-90f3-4824-9dc2-769dabdfd1ae",
   "metadata": {},
   "outputs": [],
   "source": [
    "Question.8 Mention function which can help us to find the version of python that we are currently working on?\n",
    "Answer.8 The function sys. version can help us to find the version of python that we care currently working on.it also contains information on the build number and compiled used."
   ]
  },
  {
   "cell_type": "code",
   "execution_count": null,
   "id": "1382d4b3-cc37-4f09-8211-a9936f365904",
   "metadata": {},
   "outputs": [],
   "source": [
    "Question.9 Python supports the creation of ananymous function at runtime, using a construct called...........\n",
    "Answer.9 \"Lambda\""
   ]
  },
  {
   "cell_type": "code",
   "execution_count": null,
   "id": "be7f97c3-e4dc-4dc3-b5fd-999b3dd0de96",
   "metadata": {},
   "outputs": [],
   "source": [
    "Question.10 What does pip stand for python ?\n",
    "Answer.10 Preferred Installer program."
   ]
  },
  {
   "cell_type": "code",
   "execution_count": null,
   "id": "cabb8b6d-ed86-40fb-92dd-16cef24be6c7",
   "metadata": {},
   "outputs": [],
   "source": [
    "Question.11 Mention a few built-in function in python ?\n",
    "Answer.11 Bin(), bool(),bytearray(),bytes(),print()f,type()f,Input()f,abs()f,pow()f,Dir()f,sorted(),max()f."
   ]
  },
  {
   "cell_type": "code",
   "execution_count": null,
   "id": "e5109561-f33d-4b94-a75b-22af6ff8608e",
   "metadata": {},
   "outputs": [],
   "source": [
    "Question.12 What is the maximum possible lenght of an Indentifier in python?\n",
    "Answer.12    79 charecter."
   ]
  },
  {
   "cell_type": "code",
   "execution_count": null,
   "id": "125ad40e-44d9-4987-909d-df763b832f3b",
   "metadata": {},
   "outputs": [],
   "source": [
    "Question.13 what are the benfits of using python?\n",
    "Answer.13 Benfit of using python is ---\n",
    "(1). Earning potentioal .python is second high paid computer language according to indeed.\n",
    "(2). Ease of comprehension. one of the top benfits of python is that it is easy to learn and fun to use .\n",
    "(3). Flexibility. not only is python easy to learn but also flexibility. used in many industries."
   ]
  },
  {
   "cell_type": "code",
   "execution_count": null,
   "id": "e7195c92-01df-4f25-bfd9-272e8347308b",
   "metadata": {},
   "outputs": [],
   "source": [
    "Question.14 How is memory manwge in pyton ?\n",
    "Answer.14 Memory manegement in python is handled automatically by the Interpreter using reference counting and garbage collection."
   ]
  },
  {
   "cell_type": "code",
   "execution_count": null,
   "id": "da9170ca-60aa-47d3-9e36-33709af78e6b",
   "metadata": {},
   "outputs": [],
   "source": [
    "Question.15 How to Install python on window and set path variable?\n",
    "Answer.15 1.Right clicking this pç and going to properties .\n",
    "2. Clicking on the advance system setting in the menu on the lefdt\n",
    "3. Clicking on the environment variable button on the bottom right.\n",
    "4. In the system variable section, selecting the path variable and clicking on edit."
   ]
  },
  {
   "cell_type": "code",
   "execution_count": null,
   "id": "f39cf46c-1014-472a-aebb-f99ef30e6c29",
   "metadata": {},
   "outputs": [],
   "source": [
    "Question.16 Is Indentation required in python ?\n",
    "Answer.16 Yes , because it is requred for Indicating what block of code a statement belongs to."
   ]
  },
  {
   "cell_type": "code",
   "execution_count": null,
   "id": "f8841b45-8a43-4bec-80ab-3ef40d4a02b7",
   "metadata": {},
   "outputs": [],
   "source": []
  },
  {
   "cell_type": "code",
   "execution_count": null,
   "id": "ba2b3307-a933-4415-8b3e-6827ee6edf73",
   "metadata": {},
   "outputs": [],
   "source": []
  },
  {
   "cell_type": "code",
   "execution_count": null,
   "id": "423fb276-b784-4052-b0d4-f88cbdc41807",
   "metadata": {},
   "outputs": [],
   "source": []
  },
  {
   "cell_type": "code",
   "execution_count": null,
   "id": "3c5761ca-bb04-4c3d-89a3-a668359e3f18",
   "metadata": {},
   "outputs": [],
   "source": []
  },
  {
   "cell_type": "code",
   "execution_count": null,
   "id": "81cbd709-e058-4d39-8768-9eb5797f3160",
   "metadata": {},
   "outputs": [],
   "source": []
  },
  {
   "cell_type": "code",
   "execution_count": null,
   "id": "0cb6286f-55cf-4ee5-8e5b-c660910e9fda",
   "metadata": {},
   "outputs": [],
   "source": []
  },
  {
   "cell_type": "code",
   "execution_count": null,
   "id": "e2e54fb8-0a87-40ec-9ffa-a970b39876ac",
   "metadata": {},
   "outputs": [],
   "source": []
  },
  {
   "cell_type": "code",
   "execution_count": null,
   "id": "c84f686c-d0d0-485b-8f0e-04a898c44cea",
   "metadata": {},
   "outputs": [],
   "source": []
  },
  {
   "cell_type": "code",
   "execution_count": null,
   "id": "bb0e92b6-341d-4bcc-b8c5-05d738b9dccb",
   "metadata": {},
   "outputs": [],
   "source": []
  },
  {
   "cell_type": "code",
   "execution_count": null,
   "id": "029e902c-606d-49cf-9351-be5d34efec48",
   "metadata": {},
   "outputs": [],
   "source": []
  },
  {
   "cell_type": "code",
   "execution_count": null,
   "id": "ef6f9cd6-1677-47db-9325-74eadd2ee2b4",
   "metadata": {},
   "outputs": [],
   "source": []
  },
  {
   "cell_type": "code",
   "execution_count": null,
   "id": "ea78e803-00f2-4b93-9f2c-4829c7ef19c7",
   "metadata": {},
   "outputs": [],
   "source": []
  },
  {
   "cell_type": "code",
   "execution_count": null,
   "id": "016a54f2-a2d7-423a-9d41-dc7dc0df2d57",
   "metadata": {},
   "outputs": [],
   "source": []
  },
  {
   "cell_type": "code",
   "execution_count": null,
   "id": "7af10bb1-a868-4f8e-a60a-2f0e13454e32",
   "metadata": {},
   "outputs": [],
   "source": []
  },
  {
   "cell_type": "code",
   "execution_count": null,
   "id": "8ed752c4-7177-43b2-b519-79aace84eeb9",
   "metadata": {},
   "outputs": [],
   "source": []
  },
  {
   "cell_type": "code",
   "execution_count": null,
   "id": "80c6887d-ff35-4587-89d8-37a4673a6151",
   "metadata": {},
   "outputs": [],
   "source": []
  },
  {
   "cell_type": "code",
   "execution_count": null,
   "id": "6bf7f33d-dff7-4da8-a01c-b17a663db2a8",
   "metadata": {},
   "outputs": [],
   "source": []
  },
  {
   "cell_type": "code",
   "execution_count": null,
   "id": "c42ee528-0e81-40ec-aa48-5e13b70577aa",
   "metadata": {},
   "outputs": [],
   "source": []
  }
 ],
 "metadata": {
  "kernelspec": {
   "display_name": "Python 3 (ipykernel)",
   "language": "python",
   "name": "python3"
  },
  "language_info": {
   "codemirror_mode": {
    "name": "ipython",
    "version": 3
   },
   "file_extension": ".py",
   "mimetype": "text/x-python",
   "name": "python",
   "nbconvert_exporter": "python",
   "pygments_lexer": "ipython3",
   "version": "3.10.8"
  }
 },
 "nbformat": 4,
 "nbformat_minor": 5
}
